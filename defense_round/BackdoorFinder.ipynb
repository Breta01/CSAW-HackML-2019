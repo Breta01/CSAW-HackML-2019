{
 "cells": [
  {
   "cell_type": "code",
   "execution_count": 1,
   "metadata": {},
   "outputs": [
    {
     "name": "stderr",
     "output_type": "stream",
     "text": [
      "Using TensorFlow backend.\n"
     ]
    }
   ],
   "source": [
    "from copy import copy\n",
    "from itertools import combinations\n",
    "import sys\n",
    "\n",
    "import cv2\n",
    "import h5py\n",
    "import keras\n",
    "import matplotlib.pyplot as plt\n",
    "import numpy as np\n",
    "\n",
    "def implt(img, cmp=None, t=''):\n",
    "    \"\"\"Show image using plt.\"\"\"\n",
    "    plt.imshow(img, cmap=cmp)\n",
    "    plt.title(t)\n",
    "    plt.show()"
   ]
  },
  {
   "cell_type": "code",
   "execution_count": 2,
   "metadata": {},
   "outputs": [],
   "source": [
    "clean_data_filename = \"data/clean_data/test.h5\"\n",
    "model_filename = \"model/bd_net/checkpoint_generator.h5\""
   ]
  },
  {
   "cell_type": "code",
   "execution_count": 9,
   "metadata": {},
   "outputs": [
    {
     "name": "stdout",
     "output_type": "stream",
     "text": [
      "(7, 55, 47, 3)\n",
      "(7,)\n"
     ]
    }
   ],
   "source": [
    "def data_preprocess(x_data):\n",
    "    return x_data/255\n",
    "\n",
    "\n",
    "def data_loader(filepath):\n",
    "    data = h5py.File(filepath, 'r')\n",
    "    x_data = np.array(data['data'])\n",
    "    y_data = np.array(data['label'])\n",
    "    \n",
    "    x_data = data_preprocess(x_data)\n",
    "    return x_data, y_data\n",
    "\n",
    "\n",
    "def load_selection():\n",
    "    x_test, y_test = data_loader(clean_data_filename)\n",
    "    bd_model = keras.models.load_model(model_filename)\n",
    "    \n",
    "    # Plot mode\n",
    "#     keras.utils.plot_model(bd_model, to_file='model.png')\n",
    "    \n",
    "    x_selected = []\n",
    "    y_selected = []\n",
    "    count = 7\n",
    "    is_used = [False for _ in range(2000)]\n",
    "    for i in range(len(x_test)):\n",
    "        if not is_used[y_test[i]]:\n",
    "            pred_y = np.argmax(\n",
    "                bd_model.predict(np.expand_dims(x_test[i], axis=0))[0], axis=1)\n",
    "            if y_test[i] == pred_y[0]:\n",
    "                count -= 1\n",
    "                is_used[y_test[i]] = True\n",
    "                x_selected.append(x_test[i])\n",
    "                y_selected.append(y_test[i])\n",
    "                \n",
    "        if count <= 0:\n",
    "            break\n",
    "            \n",
    "    x_selected = np.array(x_selected)\n",
    "    y_selected = np.array(y_selected)\n",
    "\n",
    "    return bd_model, x_selected, y_selected\n",
    "\n",
    "\n",
    "bd_model, x_data, y_data = load_selection()\n",
    "print(x_data.shape)\n",
    "print(y_data.shape)"
   ]
  },
  {
   "cell_type": "code",
   "execution_count": 10,
   "metadata": {},
   "outputs": [],
   "source": [
    "class MaskPixel(object):\n",
    "    def __init__(self, position, color):\n",
    "        self.pos = position\n",
    "        self.is_set = color[0]\n",
    "        self.color = color[1]\n",
    "        \n",
    "    def set_val(self, pixel):\n",
    "        self.pos = pixel.pos\n",
    "        self.is_set = pixel.is_set\n",
    "        self.color = pixel.color\n",
    "        \n",
    "    def update(self, position, color, mask, alpha_mask):\n",
    "        alpha_mask[self.pos[0]][self.pos[1]] = 0\n",
    "        mask[self.pos[0]][self.pos[1]] = (0, 0, 0)\n",
    "\n",
    "        self.pos = position\n",
    "        self.is_set = color[0]\n",
    "        self.color = color[1]\n",
    "        self.draw_mask(mask, alpha_mask)\n",
    "        \n",
    "    def draw_mask(self, mask, alpha_mask):\n",
    "        if self.is_set:\n",
    "            alpha_mask[self.pos[0]][self.pos[1]] = 1\n",
    "        mask[self.pos[0]][self.pos[1]] = self.color\n",
    "\n",
    "    \n",
    "def add_mask(org, mask, alpha):\n",
    "    fg = cv2.multiply(alpha, mask)\n",
    "    bg = cv2.multiply(1.0 - alpha, org)\n",
    "    return cv2.add(fg, bg)\n",
    "    \n",
    "\n",
    "def calc_avg_dist(model, x, mask, alpha):\n",
    "    new_x = x.copy()\n",
    "    for i in range(len(x)):\n",
    "        new_x[i] = add_mask(new_x[i], mask, alpha)\n",
    "    pred = model.predict(new_x)[0]\n",
    "    summ = sum(sum(abs(z - y) for z, y in combinations(pred, 2)))\n",
    "    return summ / (len(x) * (len(x) - 1) / 2)\n",
    "\n",
    "\n",
    "def full_eval(model, mask, alpha):\n",
    "    x_test, y_test = data_loader(clean_data_filename)\n",
    "\n",
    "    for i in range(len(x_test)):\n",
    "        x_test[i] = add_mask(x_test[i], mask, alpha)\n",
    "    \n",
    "    clean_label_p = np.argmax(bd_model.predict(x_test)[0], axis=1)\n",
    "    probabl_bd_label = np.bincount(clean_label_p).argmax()\n",
    "    y = np.array([probabl_bd_label] * len(x_test))\n",
    "    \n",
    "    class_accu = np.mean(np.equal(clean_label_p, y))\n",
    "    print('Backdoor accuracy:', class_accu)\n",
    "    print(clean_label_p)"
   ]
  },
  {
   "cell_type": "code",
   "execution_count": 11,
   "metadata": {
    "scrolled": false
   },
   "outputs": [
    {
     "name": "stdout",
     "output_type": "stream",
     "text": [
      "2.000000036582653\n",
      "2.0000000215007114\n",
      "2.0000000182838553\n",
      "2.0000000027078118\n",
      "1.9999999841559795\n",
      "1.9999999728681122\n",
      "1.9999999556351218\n",
      "1.9999999094343048\n",
      "(0, 26) (1, 1, 1)\n",
      "1.9999999094343048\n"
     ]
    },
    {
     "data": {
      "image/png": "[encoded data removed]",
      "text/plain": [
       "<Figure size 432x288 with 1 Axes>"
      ]
     },
     "metadata": {
      "needs_background": "light"
     },
     "output_type": "display_data"
    },
    {
     "data": {
      "image/png": "[encoded data removed]",
      "text/plain": [
       "<Figure size 432x288 with 1 Axes>"
      ]
     },
     "metadata": {
      "needs_background": "light"
     },
     "output_type": "display_data"
    },
    {
     "name": "stdout",
     "output_type": "stream",
     "text": [
      "(0, 26) (1, 1, 1)\n",
      "1.9999999094343048\n"
     ]
    },
    {
     "data": {
      "image/png": "[encoded data removed]",
      "text/plain": [
       "<Figure size 432x288 with 1 Axes>"
      ]
     },
     "metadata": {
      "needs_background": "light"
     },
     "output_type": "display_data"
    },
    {
     "data": {
      "image/png": "[encoded data removed]",
      "text/plain": [
       "<Figure size 432x288 with 1 Axes>"
      ]
     },
     "metadata": {
      "needs_background": "light"
     },
     "output_type": "display_data"
    },
    {
     "name": "stdout",
     "output_type": "stream",
     "text": [
      "Backdoor accuracy: 0.0010124610591900312\n",
      "[ 950  992  823 ... 1283 1283 1152]\n"
     ]
    }
   ],
   "source": [
    "def detect_backdoor(model, x, y):\n",
    "    mask = np.zeros((55, 47, 3), dtype=np.float32)\n",
    "    alpha_mask = np.zeros((55, 47, 3), dtype=np.float32)\n",
    "\n",
    "    # Array of colors: (is_visible, color_value)\n",
    "#     colors = [(False, (0, 0, 0)), (True, (0, 0, 0)), (True, (1, 1, 1)),\n",
    "#               (True, (1, 0, 0)), (True, (0, 1, 0)), (True, (0, 0, 1)),\n",
    "#               (True, (1, 1, 0)), (True, (0, 1, 1)), (True, (1, 0, 1))]\n",
    "    colors = [(False, (0, 0, 0)), (True, (1, 1, 1))]\n",
    "    mask_pix = [MaskPixel((0, 0), colors[0]) for _ in range(int(55 * 47 * 0.2))]\n",
    "\n",
    "    dist = calc_avg_dist(model, x, mask, alpha_mask)\n",
    "    print(dist)\n",
    "\n",
    "    m_px = MaskPixel((0, 0), colors[0])\n",
    "    for i in range(10000):\n",
    "        idx = i % len(mask_pix)\n",
    "        m_px.set_val(mask_pix[idx])\n",
    "        org_dist = dist\n",
    "        updated = False\n",
    "        for r in range(mask.shape[0]):\n",
    "            for c in range(mask.shape[1]):\n",
    "                for color in colors:\n",
    "                    m_px.update((r, c), color, mask, alpha_mask)\n",
    "                    new_dist = calc_avg_dist(model, x, mask, alpha_mask)\n",
    "                    if new_dist < dist:\n",
    "                        print(new_dist)\n",
    "                        updated = True\n",
    "                        dist = new_dist\n",
    "                        mask_pix[idx].set_val(m_px)\n",
    "                \n",
    "                if dist <= 1e-4:\n",
    "                    break\n",
    "            if dist <= 1e-4:\n",
    "                break\n",
    "        if dist <= 1e-4:\n",
    "            break\n",
    "\n",
    "        mask[:, :] = (0, 0, 0)\n",
    "        alpha_mask[:, :] = (0, 0, 0)\n",
    "\n",
    "        for pix in mask_pix:\n",
    "            if pix.is_set:\n",
    "                print(pix.pos, pix.color)\n",
    "            pix.draw_mask(mask, alpha_mask)\n",
    "\n",
    "        print(dist)\n",
    "        implt(mask, t='Backdoor trigger')\n",
    "        implt(alpha_mask, t='Alpha mask of trigger')\n",
    "        \n",
    "        if not updated:\n",
    "            break\n",
    "    \n",
    "    full_eval(model, mask, alpha_mask)\n",
    "\n",
    "\n",
    "detect_backdoor(bd_model, x_data, y_data)"
   ]
  }
 ],
 "metadata": {
  "kernelspec": {
   "display_name": "Python 3",
   "language": "python",
   "name": "python3"
  },
  "language_info": {
   "codemirror_mode": {
    "name": "ipython",
    "version": 3
   },
   "file_extension": ".py",
   "mimetype": "text/x-python",
   "name": "python",
   "nbconvert_exporter": "python",
   "pygments_lexer": "ipython3",
   "version": "3.6.7"
  }
 },
 "nbformat": 4,
 "nbformat_minor": 2
}
